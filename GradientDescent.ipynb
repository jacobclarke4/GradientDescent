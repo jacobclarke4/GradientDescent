{
 "cells": [
  {
   "cell_type": "code",
   "execution_count": 2,
   "metadata": {},
   "outputs": [
    {
     "data": {
      "text/plain": [
       "[<matplotlib.lines.Line2D at 0x27423c4de48>]"
      ]
     },
     "execution_count": 2,
     "metadata": {},
     "output_type": "execute_result"
    },
    {
     "data": {
      "image/png": "[encoded data removed]",
      "text/plain": [
       "<Figure size 432x288 with 1 Axes>"
      ]
     },
     "metadata": {
      "needs_background": "light"
     },
     "output_type": "display_data"
    }
   ],
   "source": [
    "#Written by Jacob Clarke\n",
    "import numpy as np\n",
    "import pandas as pd\n",
    "import math\n",
    "%matplotlib inline\n",
    "import matplotlib.pyplot as plt\n",
    "\n",
    "\n",
    "\n",
    "def normalize(df):\n",
    "    length = len(df)\n",
    "    columns = df.columns\n",
    "    col_length = len(columns)\n",
    "    \n",
    "    \n",
    "    for i in range(col_length):\n",
    "\n",
    "        _range = 0\n",
    "        _sum = 0\n",
    "        _min = 0\n",
    "        _max = 0\n",
    "        for j in range(length):\n",
    "            _sum = df.iloc[j,i] + _sum\n",
    "\n",
    "            if j == 0:\n",
    "                _min = _max = df.iloc[j,i]\n",
    "            if df.iloc[j,i] > _max:\n",
    "                _max = df.iloc[j,i]\n",
    "            if df.iloc[j,i] < _min:\n",
    "                _min = df.iloc[j,i]\n",
    "            if j == length-1:\n",
    "                _range = _max - _min\n",
    "        if _range > 1:\n",
    "\n",
    "            for j in range(length):\n",
    "                df.iloc[j,i] = df.iloc[j,i]/_range\n",
    "        #end if _range\n",
    "    return\n",
    "#end normalization\n",
    "\n",
    "def calculate_h_x(X_i,params):\n",
    "    length = len(X_i) - 1\n",
    "    temp = 0\n",
    "    \n",
    "    for i in range(length):\n",
    "        temp = temp + (X_i[i] * params[i])\n",
    "    \n",
    "    temp = 1 / (1 + (math.e)**(-1 * temp))\n",
    "    return temp\n",
    "\n",
    "def calculate_loss(X,y,params):\n",
    "    n = y.size\n",
    "    temp = 0\n",
    "    for i in range(n):\n",
    "        \n",
    "        if calculate_h_x(X.loc[i],params) != 0:\n",
    "            a = math.log2(calculate_h_x(X.loc[i],params))\n",
    "        else:\n",
    "            a = 0\n",
    "        if calculate_h_x(X.loc[i],params) != 1:\n",
    "            b = math.log2(1 - calculate_h_x(X.loc[i],params))\n",
    "        else:\n",
    "            b = 0\n",
    "        \n",
    "        temp = temp + (y[i] * a) + ( (1-y[i]) * b)\n",
    "    temp = temp * (-1/n)\n",
    "    return temp\n",
    "\n",
    "def gradient_descent(X,y,alpha,T):\n",
    "    normalize(X)\n",
    "    n = y.size\n",
    "    columns = X.columns\n",
    "    col_length = len(columns)\n",
    "    theta = []\n",
    "    loss = []\n",
    "    for i in range(col_length):\n",
    "        theta.append(1)\n",
    "    \n",
    "    for i in range(T):\n",
    "        loss.append(calculate_loss(X,y,theta))\n",
    "\n",
    "        for j in range(col_length):\n",
    "\n",
    "            temp = 0\n",
    "            for k in range(n):\n",
    "                temp = temp + (calculate_h_x(X.loc[k],theta) - y[k])*X.iloc[k,j]\n",
    "            #end for k\n",
    "            theta[j] = theta[j] - ((1/n)*alpha*temp)\n",
    "        #end for j\n",
    "    #end for i\n",
    "    \n",
    "    return loss\n",
    "            \n",
    "df = pd.read_csv('wdbc.data', header=None) \n",
    "df = df[:50]\n",
    "base_names = ['radius','texture','perimeter','area','smooth','compact','concav', 'conpoints','symmetry','fracdim']\n",
    "names = ['m'+ name for name in base_names]\n",
    "names += ['s' + name for name in base_names]\n",
    "names += ['e' + name for name in base_names]\n",
    "names = ['id', 'class'] + names\n",
    "df.columns = names\n",
    "\n",
    "y = pd.Series([(0 if x== 'M' else 1) for x in df['class']])\n",
    "x = df.drop(['class'], axis = 1)\n",
    "\n",
    "cost = gradient_descent(x,y,.1,100)\n",
    "it = []\n",
    "for i in range(len(cost)):\n",
    "    it.append(i)\n",
    "\n",
    "    \n",
    "plt.plot(it,cost)\n",
    "\n"
   ]
  },
  {
   "cell_type": "code",
   "execution_count": null,
   "metadata": {},
   "outputs": [],
   "source": []
  }
 ],
 "metadata": {
  "kernelspec": {
   "display_name": "Python 3",
   "language": "python",
   "name": "python3"
  },
  "language_info": {
   "codemirror_mode": {
    "name": "ipython",
    "version": 3
   },
   "file_extension": ".py",
   "mimetype": "text/x-python",
   "name": "python",
   "nbconvert_exporter": "python",
   "pygments_lexer": "ipython3",
   "version": "3.7.3"
  }
 },
 "nbformat": 4,
 "nbformat_minor": 2
}
